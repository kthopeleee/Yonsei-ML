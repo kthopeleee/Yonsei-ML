{
  "nbformat": 4,
  "nbformat_minor": 0,
  "metadata": {
    "colab": {
      "provenance": [],
      "include_colab_link": true
    },
    "kernelspec": {
      "name": "python3",
      "display_name": "Python 3"
    },
    "language_info": {
      "name": "python"
    }
  },
  "cells": [
    {
      "cell_type": "markdown",
      "metadata": {
        "id": "view-in-github",
        "colab_type": "text"
      },
      "source": [
        "<a href=\"https://colab.research.google.com/github/kthopeleee/Yonsei-ML/blob/main/DT_loandeicision_a.ipynb\" target=\"_parent\"><img src=\"https://colab.research.google.com/assets/colab-badge.svg\" alt=\"Open In Colab\"/></a>"
      ]
    },
    {
      "cell_type": "code",
      "source": [
        "#!pip install --upgrade pandas scikit-learn\n",
        "import pandas as pd\n",
        "\n",
        "# training data and DataFrame\n",
        "data = {'home_owner': [1, 0, 0, 1, 0, 0, 1, 0, 0, 0],\n",
        "        'marital_status': [0, 1, 0, 1, 2, 1, 2, 0, 1, 0],\n",
        "        'annual_income': [125000, 100000, 70000, 120000, 95000, 60000, 220000, 85000, 75000, 90000],\n",
        "        'defaulted_borrower': [0, 0, 0, 0, 1, 0, 0, 1, 0, 1]}\n",
        "df = pd.DataFrame(data)\n",
        "\n",
        "\n",
        "# test data and DataFrame\n",
        "data_test = {'home_owner': [0, 1, 1],\n",
        "        'marital_status': [2, 0, 1],\n",
        "        'annual_income': [161235, 152300, 103500],\n",
        "        'defaulted_borrower': [0, 1, 0]}\n",
        "df_test = pd.DataFrame(data_test)\n",
        "\n",
        "\n",
        "\n",
        "# Add labels\n",
        "X = df[['home_owner', 'marital_status', 'annual_income']]\n",
        "y = df['defaulted_borrower']\n",
        "X_test = df_test[['home_owner', 'marital_status', 'annual_income']]\n",
        "y_test = df_test['defaulted_borrower']"
      ],
      "metadata": {
        "id": "QSIEhJTUrDhI"
      },
      "execution_count": null,
      "outputs": []
    },
    {
      "cell_type": "code",
      "source": [
        "import numpy as np\n",
        "\n",
        "# Using NumPy to create an array and perform operations\n",
        "np_array = np.array(df[['home_owner', 'marital_status', 'annual_income', 'defaulted_borrower']])\n",
        "print(\"NumPy Array:\\n\", np_array)\n",
        "\n",
        "# Calculate the mean annual income\n",
        "mean_income = np.mean(np_array[:, 2])\n",
        "print(\"Mean Annual Income:\", mean_income)\n"
      ],
      "metadata": {
        "id": "FT6pDbpkCrDr"
      },
      "execution_count": null,
      "outputs": []
    },
    {
      "cell_type": "code",
      "source": [
        "import seaborn as sns\n",
        "import matplotlib.pyplot as plt\n",
        "\n",
        "# Seaborn and Matplotlib for graphs\n",
        "plt.figure(figsize=(10, 6))\n",
        "sns.histplot(df['annual_income'], kde=True, bins=10)\n",
        "plt.title('Distribution of Annual Income')\n",
        "plt.xlabel('Annual Income')\n",
        "plt.ylabel('Frequency')\n",
        "plt.show()\n",
        "\n",
        "plt.figure(figsize=(5, 6))\n",
        "sns.countplot(x='home_owner', hue='defaulted_borrower', data=df)\n",
        "plt.title('Home Ownership vs Loan Default')\n",
        "plt.xlabel('Home Owner')\n",
        "plt.ylabel('Count')\n",
        "plt.show()"
      ],
      "metadata": {
        "id": "j4PIltsMCvXP"
      },
      "execution_count": null,
      "outputs": []
    },
    {
      "cell_type": "code",
      "source": [
        "from sklearn.tree import DecisionTreeClassifier\n",
        "\n",
        "# Splitting training v testing\n",
        "# X_train, X_test, y_train, y_test = train_test_split(X, y, test_size=0.2, random_state=42)\n",
        "\n",
        "# Train a decision tree classifier\n",
        "dt1 = DecisionTreeClassifier(criterion='gini', random_state=34, max_depth=5)\n",
        "dt2 = dt1.fit(X, y)\n",
        "\n"
      ],
      "metadata": {
        "id": "M_em8KSc_h83"
      },
      "execution_count": null,
      "outputs": []
    },
    {
      "cell_type": "code",
      "source": [
        "from sklearn.metrics import accuracy_score\n",
        "\n",
        "# Predict using the trained model\n",
        "y_pred = dt2.predict(X_test)\n",
        "\n",
        "# Calculate accuracy\n",
        "accuracy = accuracy_score(y_test, y_pred)\n",
        "print(\"Testing Data:\\n\", df_test)\n",
        "print(\"Predictions:\\n\", y_pred)\n",
        "print(\"Accuracy:\", accuracy)"
      ],
      "metadata": {
        "id": "effUpvTBG-26"
      },
      "execution_count": null,
      "outputs": []
    },
    {
      "cell_type": "code",
      "source": [
        "from ipywidgets import interact_manual\n",
        "\n",
        "# Function to output prediction based on user input\n",
        "def predict_user_input(home_owner, marital_status, annual_income):\n",
        "    prediction = dt2.predict([[home_owner, marital_status, annual_income]])\n",
        "    return \"Loan Approved\" if prediction[0] == 0 else \"Loan Decision Failed\"\n",
        "\n",
        "\n",
        "# Using ipywidgets to take user input\n",
        "interact_manual(predict_user_input,\n",
        "                home_owner={'Does not own': 0, 'Own': 1},\n",
        "                marital_status={'Divorced': 2, 'Single': 0, 'Married': 1},\n",
        "                annual_income=(50000,250000));"
      ],
      "metadata": {
        "id": "IbvwJ7KPEJov"
      },
      "execution_count": null,
      "outputs": []
    }
  ]
}