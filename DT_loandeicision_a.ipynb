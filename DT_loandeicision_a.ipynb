{
  "cells": [
    {
      "cell_type": "markdown",
      "metadata": {
        "colab_type": "text",
        "id": "view-in-github"
      },
      "source": [
        "<a href=\"https://colab.research.google.com/github/kthopeleee/Yonsei-ML/blob/main/DT_loandeicision_a.ipynb\" target=\"_parent\"><img src=\"https://colab.research.google.com/assets/colab-badge.svg\" alt=\"Open In Colab\"/></a>"
      ]
    },
    {
      "cell_type": "code",
      "execution_count": 1,
      "metadata": {
        "id": "QSIEhJTUrDhI"
      },
      "outputs": [
        {
          "ename": "ModuleNotFoundError",
          "evalue": "No module named 'pandas'",
          "output_type": "error",
          "traceback": [
            "\u001b[0;31m---------------------------------------------------------------------------\u001b[0m",
            "\u001b[0;31mModuleNotFoundError\u001b[0m                       Traceback (most recent call last)",
            "Cell \u001b[0;32mIn[1], line 2\u001b[0m\n\u001b[1;32m      1\u001b[0m \u001b[38;5;66;03m#!pip install --upgrade pandas scikit-learn\u001b[39;00m\n\u001b[0;32m----> 2\u001b[0m \u001b[38;5;28;01mimport\u001b[39;00m \u001b[38;5;21;01mpandas\u001b[39;00m \u001b[38;5;28;01mas\u001b[39;00m \u001b[38;5;21;01mpd\u001b[39;00m\n\u001b[1;32m      4\u001b[0m \u001b[38;5;66;03m# training data and DataFrame\u001b[39;00m\n\u001b[1;32m      5\u001b[0m data \u001b[38;5;241m=\u001b[39m {\u001b[38;5;124m'\u001b[39m\u001b[38;5;124mhome_owner\u001b[39m\u001b[38;5;124m'\u001b[39m: [\u001b[38;5;241m1\u001b[39m, \u001b[38;5;241m0\u001b[39m, \u001b[38;5;241m0\u001b[39m, \u001b[38;5;241m1\u001b[39m, \u001b[38;5;241m0\u001b[39m, \u001b[38;5;241m0\u001b[39m, \u001b[38;5;241m1\u001b[39m, \u001b[38;5;241m0\u001b[39m, \u001b[38;5;241m0\u001b[39m, \u001b[38;5;241m0\u001b[39m],\n\u001b[1;32m      6\u001b[0m         \u001b[38;5;124m'\u001b[39m\u001b[38;5;124mmarital_status\u001b[39m\u001b[38;5;124m'\u001b[39m: [\u001b[38;5;241m0\u001b[39m, \u001b[38;5;241m1\u001b[39m, \u001b[38;5;241m0\u001b[39m, \u001b[38;5;241m1\u001b[39m, \u001b[38;5;241m2\u001b[39m, \u001b[38;5;241m1\u001b[39m, \u001b[38;5;241m2\u001b[39m, \u001b[38;5;241m0\u001b[39m, \u001b[38;5;241m1\u001b[39m, \u001b[38;5;241m0\u001b[39m],\n\u001b[1;32m      7\u001b[0m         \u001b[38;5;124m'\u001b[39m\u001b[38;5;124mannual_income\u001b[39m\u001b[38;5;124m'\u001b[39m: [\u001b[38;5;241m125000\u001b[39m, \u001b[38;5;241m100000\u001b[39m, \u001b[38;5;241m70000\u001b[39m, \u001b[38;5;241m120000\u001b[39m, \u001b[38;5;241m95000\u001b[39m, \u001b[38;5;241m60000\u001b[39m, \u001b[38;5;241m220000\u001b[39m, \u001b[38;5;241m85000\u001b[39m, \u001b[38;5;241m75000\u001b[39m, \u001b[38;5;241m90000\u001b[39m],\n\u001b[1;32m      8\u001b[0m         \u001b[38;5;124m'\u001b[39m\u001b[38;5;124mdefaulted_borrower\u001b[39m\u001b[38;5;124m'\u001b[39m: [\u001b[38;5;241m0\u001b[39m, \u001b[38;5;241m0\u001b[39m, \u001b[38;5;241m0\u001b[39m, \u001b[38;5;241m0\u001b[39m, \u001b[38;5;241m1\u001b[39m, \u001b[38;5;241m0\u001b[39m, \u001b[38;5;241m0\u001b[39m, \u001b[38;5;241m1\u001b[39m, \u001b[38;5;241m0\u001b[39m, \u001b[38;5;241m1\u001b[39m]}\n",
            "\u001b[0;31mModuleNotFoundError\u001b[0m: No module named 'pandas'"
          ]
        }
      ],
      "source": [
        "#!pip install --upgrade pandas scikit-learn\n",
        "import pandas as pd\n",
        "\n",
        "# training data and DataFrame\n",
        "data = {'home_owner': [1, 0, 0, 1, 0, 0, 1, 0, 0, 0],\n",
        "        'marital_status': [0, 1, 0, 1, 2, 1, 2, 0, 1, 0],\n",
        "        'annual_income': [125000, 100000, 70000, 120000, 95000, 60000, 220000, 85000, 75000, 90000],\n",
        "        'defaulted_borrower': [0, 0, 0, 0, 1, 0, 0, 1, 0, 1]}\n",
        "df = pd.DataFrame(data)\n",
        "\n",
        "\n",
        "# test data and DataFrame\n",
        "data_test = {'home_owner': [0, 1, 1],\n",
        "        'marital_status': [2, 0, 1],\n",
        "        'annual_income': [161235, 152300, 103500],\n",
        "        'defaulted_borrower': [0, 1, 0]}\n",
        "df_test = pd.DataFrame(data_test)\n",
        "\n",
        "\n",
        "\n",
        "# Add labels\n",
        "X = df[['home_owner', 'marital_status', 'annual_income']]\n",
        "y = df['defaulted_borrower']\n",
        "X_test = df_test[['home_owner', 'marital_status', 'annual_income']]\n",
        "y_test = df_test['defaulted_borrower']"
      ]
    },
    {
      "cell_type": "code",
      "execution_count": null,
      "metadata": {
        "id": "FT6pDbpkCrDr"
      },
      "outputs": [],
      "source": [
        "import numpy as np\n",
        "\n",
        "# Using NumPy to create an array and perform operations\n",
        "np_array = np.array(df[['home_owner', 'marital_status', 'annual_income', 'defaulted_borrower']])\n",
        "print(\"NumPy Array:\\n\", np_array)\n",
        "\n",
        "# Calculate the mean annual income\n",
        "mean_income = np.mean(np_array[:, 2])\n",
        "print(\"Mean Annual Income:\", mean_income)\n"
      ]
    },
    {
      "cell_type": "code",
      "execution_count": null,
      "metadata": {
        "id": "j4PIltsMCvXP"
      },
      "outputs": [],
      "source": [
        "import seaborn as sns\n",
        "import matplotlib.pyplot as plt\n",
        "\n",
        "# Seaborn and Matplotlib for graphs\n",
        "plt.figure(figsize=(10, 6))\n",
        "sns.histplot(df['annual_income'], kde=True, bins=10)\n",
        "plt.title('Distribution of Annual Income')\n",
        "plt.xlabel('Annual Income')\n",
        "plt.ylabel('Frequency')\n",
        "plt.show()\n",
        "\n",
        "plt.figure(figsize=(5, 6))\n",
        "sns.countplot(x='home_owner', hue='defaulted_borrower', data=df)\n",
        "plt.title('Home Ownership vs Loan Default')\n",
        "plt.xlabel('Home Owner')\n",
        "plt.ylabel('Count')\n",
        "plt.show()"
      ]
    },
    {
      "cell_type": "code",
      "execution_count": null,
      "metadata": {
        "id": "M_em8KSc_h83"
      },
      "outputs": [],
      "source": [
        "from sklearn.tree import DecisionTreeClassifier\n",
        "\n",
        "# Splitting training v testing\n",
        "# X_train, X_test, y_train, y_test = train_test_split(X, y, test_size=0.2, random_state=42)\n",
        "\n",
        "# Train a decision tree classifier\n",
        "dt1 = DecisionTreeClassifier(criterion='gini', random_state=34, max_depth=5)\n",
        "dt2 = dt1.fit(X, y)\n",
        "\n"
      ]
    },
    {
      "cell_type": "code",
      "execution_count": null,
      "metadata": {
        "id": "effUpvTBG-26"
      },
      "outputs": [],
      "source": [
        "from sklearn.metrics import accuracy_score\n",
        "\n",
        "# Predict using the trained model\n",
        "y_pred = dt2.predict(X_test)\n",
        "\n",
        "# Calculate accuracy\n",
        "accuracy = accuracy_score(y_test, y_pred)\n",
        "print(\"Testing Data:\\n\", df_test)\n",
        "print(\"Predictions:\\n\", y_pred)\n",
        "print(\"Accuracy:\", accuracy)"
      ]
    },
    {
      "cell_type": "code",
      "execution_count": null,
      "metadata": {
        "id": "IbvwJ7KPEJov"
      },
      "outputs": [],
      "source": [
        "from ipywidgets import interact_manual\n",
        "\n",
        "# Function to output prediction based on user input\n",
        "def predict_user_input(home_owner, marital_status, annual_income):\n",
        "    prediction = dt2.predict([[home_owner, marital_status, annual_income]])\n",
        "    return \"Loan Approved\" if prediction[0] == 0 else \"Loan Decision Failed\"\n",
        "\n",
        "\n",
        "# Using ipywidgets to take user input\n",
        "interact_manual(predict_user_input,\n",
        "                home_owner={'Does not own': 0, 'Own': 1},\n",
        "                marital_status={'Divorced': 2, 'Single': 0, 'Married': 1},\n",
        "                annual_income=(50000,250000));"
      ]
    }
  ],
  "metadata": {
    "colab": {
      "include_colab_link": true,
      "provenance": []
    },
    "kernelspec": {
      "display_name": "Python 3",
      "name": "python3"
    },
    "language_info": {
      "codemirror_mode": {
        "name": "ipython",
        "version": 3
      },
      "file_extension": ".py",
      "mimetype": "text/x-python",
      "name": "python",
      "nbconvert_exporter": "python",
      "pygments_lexer": "ipython3",
      "version": "3.9.6"
    }
  },
  "nbformat": 4,
  "nbformat_minor": 0
}
